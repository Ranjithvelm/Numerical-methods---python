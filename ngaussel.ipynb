{
 "cells": [
  {
   "cell_type": "code",
   "execution_count": 449,
   "metadata": {},
   "outputs": [],
   "source": [
    "import numpy as np"
   ]
  },
  {
   "cell_type": "code",
   "execution_count": 450,
   "metadata": {},
   "outputs": [],
   "source": [
    "# from ngaussel import ngaussel\n",
    "def ngaussel(A,b):\n",
    "    n = len(b)\n",
    "    x = np.zeros((n,1))\n",
    "    augm = np.column_stack((A,b))\n",
    "    m = range(0,n-1)\n",
    "    for k in range(n):\n",
    "        for i in range(k+1,n):\n",
    "            m = A[i][k]/A[k][k]\n",
    "            for j in range(n):\n",
    "                A[i][j] = A[i][j] - m*A[k][j]\n",
    "            b[i] = b[i] - m*b[k]\n",
    "            \n",
    "    print(A)\n",
    "    print(b)\n",
    "\n",
    "    x[n-1] = b[n-1]/A[n-1][n-1]\n",
    "    for i in range(n-2,-1,-1):\n",
    "        S = b[i]\n",
    "        for j in range(n-1,i,-1):\n",
    "            S = S - A[i][j]*x[j]\n",
    "        x[i] = S/A[i][i]\n",
    "    print(x)"
   ]
  },
  {
   "cell_type": "code",
   "execution_count": 451,
   "metadata": {},
   "outputs": [
    {
     "name": "stdout",
     "output_type": "stream",
     "text": [
      "[[ 1  1 -1]\n",
      " [ 0 -3  3]\n",
      " [ 0  0  4]]\n",
      "[[-2]\n",
      " [ 9]\n",
      " [ 8]]\n",
      "[[ 1.]\n",
      " [-1.]\n",
      " [ 2.]]\n"
     ]
    }
   ],
   "source": [
    "A = np.array([[1,1, -1],[2, -1, 1],[-1, 2, 2]])\n",
    "b = np.array([[-2],[5],[1]])\n",
    "ngaussel(A,b)"
   ]
  },
  {
   "cell_type": "code",
   "execution_count": 452,
   "metadata": {},
   "outputs": [
    {
     "name": "stdout",
     "output_type": "stream",
     "text": [
      "[[4 3 9]\n",
      " [1 5 8]\n",
      " [8 4 6]]\n",
      "[[7]\n",
      " [6]\n",
      " [1]]\n"
     ]
    }
   ],
   "source": [
    "n = 3\n",
    "B = np.random.randint(1,10,size=(n,n))\n",
    "c = np.random.randint(1,10, size=(n,1))\n",
    "print(B)\n",
    "print(c)"
   ]
  }
 ],
 "metadata": {
  "kernelspec": {
   "display_name": "base",
   "language": "python",
   "name": "python3"
  },
  "language_info": {
   "codemirror_mode": {
    "name": "ipython",
    "version": 3
   },
   "file_extension": ".py",
   "mimetype": "text/x-python",
   "name": "python",
   "nbconvert_exporter": "python",
   "pygments_lexer": "ipython3",
   "version": "3.11.4"
  }
 },
 "nbformat": 4,
 "nbformat_minor": 2
}
