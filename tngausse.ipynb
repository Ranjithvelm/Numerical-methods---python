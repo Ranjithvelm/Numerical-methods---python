{
 "cells": [
  {
   "cell_type": "code",
   "execution_count": 202,
   "metadata": {},
   "outputs": [],
   "source": [
    "import numpy as np\n",
    "import time\n",
    "import random"
   ]
  },
  {
   "cell_type": "code",
   "execution_count": 203,
   "metadata": {},
   "outputs": [],
   "source": [
    "# from ngaussel import ngaussel\n",
    "def ngaussel(A,b):\n",
    "    n = len(b)\n",
    "    x = np.zeros((n,1))\n",
    "    augm = np.column_stack((A,b))\n",
    "    m = range(0,n-1)\n",
    "    for k in range(n):\n",
    "        for i in range(k+1,n):\n",
    "            m = A[i][k]/A[k][k]\n",
    "            for j in range(n):\n",
    "                A[i][j] = A[i][j] - m*A[k][j]\n",
    "            b[i] = b[i] - m*b[k]\n",
    "            \n",
    "    # print(A)\n",
    "    # print(b)\n",
    "\n",
    "    x[n-1] = b[n-1]/A[n-1][n-1]\n",
    "    for i in range(n-2,-1,-1):\n",
    "        S = b[i]\n",
    "        for j in range(n-1,i,-1):\n",
    "            S = S - A[i][j]*x[j]\n",
    "        x[i] = S/A[i][i]\n",
    "    # print(x)"
   ]
  },
  {
   "cell_type": "code",
   "execution_count": 204,
   "metadata": {},
   "outputs": [
    {
     "name": "stdout",
     "output_type": "stream",
     "text": [
      "70\n",
      "0.07418322563171387\n"
     ]
    }
   ],
   "source": [
    "# n = int(input(\"Enter the size of the matrix: \"))\n",
    "n = round(100*random.random())\n",
    "print(n)\n",
    "A = np.random.rand(n,n)\n",
    "b = np.random.rand(n,1)\n",
    "tic = time.time()\n",
    "ngaussel(A,b)\n",
    "toc = time.time()\n",
    "# print(tic, toc)\n",
    "print(toc-tic)"
   ]
  }
 ],
 "metadata": {
  "kernelspec": {
   "display_name": "base",
   "language": "python",
   "name": "python3"
  },
  "language_info": {
   "codemirror_mode": {
    "name": "ipython",
    "version": 3
   },
   "file_extension": ".py",
   "mimetype": "text/x-python",
   "name": "python",
   "nbconvert_exporter": "python",
   "pygments_lexer": "ipython3",
   "version": "3.11.4"
  }
 },
 "nbformat": 4,
 "nbformat_minor": 2
}
